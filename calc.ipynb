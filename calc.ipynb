{
 "cells": [
  {
   "cell_type": "code",
   "execution_count": 1,
   "metadata": {},
   "outputs": [
    {
     "name": "stdout",
     "output_type": "stream",
     "text": [
      "7\n"
     ]
    }
   ],
   "source": [
    "num1 = int(input(\"Enter your first num: \"))\n",
    "op = input(\"Enter operator (+, -,*,/): \")\n",
    "num2 = int(input(\"Enter your second num: \"))\n",
    "res = ()\n",
    "if op == \"+\":\n",
    "    res = num1 + num2\n",
    "    print(res)\n",
    "\n",
    "elif op == \"-\":\n",
    "    res = num1 - num2\n",
    "    print(res)\n",
    "    \n",
    "elif op == \"*\":\n",
    "    res = num1 * num2\n",
    "    print(res)\n",
    "    \n",
    "elif op == \"/\":\n",
    "    res = num1 / num2\n",
    "    print(res)"
   ]
  }
 ],
 "metadata": {
  "kernelspec": {
   "display_name": "Python 3",
   "language": "python",
   "name": "python3"
  },
  "language_info": {
   "codemirror_mode": {
    "name": "ipython",
    "version": 3
   },
   "file_extension": ".py",
   "mimetype": "text/x-python",
   "name": "python",
   "nbconvert_exporter": "python",
   "pygments_lexer": "ipython3",
   "version": "3.12.5"
  }
 },
 "nbformat": 4,
 "nbformat_minor": 2
}
