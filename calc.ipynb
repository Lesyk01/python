{
 "cells": [
  {
   "cell_type": "code",
   "execution_count": null,
   "metadata": {},
   "outputs": [],
   "source": [
    "num1 = int(input(\"Enter your first num: \"))\n",
    "op = input(\"Enter operator (+, -,*,/): \")\n",
    "num2 = int(input(\"Enter your second num: \"))\n",
    "res = ()\n",
    "if op == \"+\":\n",
    "    res = num1 + num2\n",
    "    print(res)\n",
    "\n",
    "elif op == \"-\":\n",
    "    res = num1 - num2\n",
    "    print(res)\n",
    "    \n",
    "elif op == \"*\":\n",
    "    res = num1 * num2\n",
    "    print(res)\n",
    "    \n",
    "elif op == \"/\":\n",
    "    res = num1 / num2\n",
    "    print(res)"
   ]
  }
 ],
 "metadata": {
  "language_info": {
   "name": "python"
  }
 },
 "nbformat": 4,
 "nbformat_minor": 2
}
