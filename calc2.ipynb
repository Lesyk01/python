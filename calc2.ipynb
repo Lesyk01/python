{
 "cells": [
  {
   "cell_type": "code",
   "execution_count": 4,
   "metadata": {},
   "outputs": [
    {
     "name": "stdout",
     "output_type": "stream",
     "text": [
      "Результат: Помилка: Некоректний вираз\n"
     ]
    }
   ],
   "source": [
    "def calculate(expression):\n",
    "   \n",
    "    expression = expression.replace(\" \", \"\")\n",
    "\n",
    "\n",
    "    while \"(\" in expression:\n",
    "        start = expression.rfind(\"(\")        \n",
    "        end = expression.find(\")\", start)   \n",
    "        inside = expression[start+1:end]     \n",
    "        value = calculate(inside)            \n",
    "        expression = expression[:start] + str(value) + expression[end+1:]\n",
    "\n",
    " \n",
    "    tokens = []\n",
    "    number = \"\"\n",
    "    for char in expression:\n",
    "        if char.isdigit():\n",
    "            number += char\n",
    "        else:\n",
    "            tokens.append(int(number))\n",
    "            tokens.append(char)\n",
    "            number = \"\"\n",
    "    if number:\n",
    "        tokens.append(int(number))\n",
    "\n",
    "   \n",
    "    i = 0\n",
    "    while i < len(tokens):\n",
    "        if tokens[i] == \"*\":\n",
    "            result = tokens[i-1] * tokens[i+1]\n",
    "            tokens[i-1:i+2] = [result]\n",
    "            i -= 1\n",
    "        elif tokens[i] == \"/\":\n",
    "            result = tokens[i-1] // tokens[i+1]  \n",
    "            tokens[i-1:i+2] = [result]\n",
    "            i -= 1\n",
    "        else:\n",
    "            i += 1\n",
    "\n",
    "\n",
    "    i = 0\n",
    "    while i < len(tokens):\n",
    "        if tokens[i] == \"+\":\n",
    "            result = tokens[i-1] + tokens[i+1]\n",
    "            tokens[i-1:i+2] = [result]\n",
    "            i -= 1\n",
    "        elif tokens[i] == \"-\":\n",
    "            result = tokens[i-1] - tokens[i+1]\n",
    "            tokens[i-1:i+2] = [result]\n",
    "            i -= 1\n",
    "        else:\n",
    "            i += 1\n",
    "\n",
    "    return tokens[0]\n",
    "\n",
    "\n",
    "\n",
    "user_input = input(\"Введіть вираз: \")\n",
    "print(\"Результат:\", calculate(user_input))"
   ]
  }
 ],
 "metadata": {
  "kernelspec": {
   "display_name": "Python 3",
   "language": "python",
   "name": "python3"
  },
  "language_info": {
   "codemirror_mode": {
    "name": "ipython",
    "version": 3
   },
   "file_extension": ".py",
   "mimetype": "text/x-python",
   "name": "python",
   "nbconvert_exporter": "python",
   "pygments_lexer": "ipython3",
   "version": "3.12.5"
  }
 },
 "nbformat": 4,
 "nbformat_minor": 2
}
