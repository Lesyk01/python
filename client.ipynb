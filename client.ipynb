{
 "cells": [
  {
   "cell_type": "code",
   "execution_count": 1,
   "metadata": {},
   "outputs": [
    {
     "name": "stdout",
     "output_type": "stream",
     "text": [
      "Іван: Дрібнота | Рішення: Працювати без питань\n",
      "Ольга: Середнячок | Рішення: Перевірити документи\n",
      "Петро: Великий клієнт | Рішення: У чорний список\n",
      "Марія: Середнячок | Рішення: Працювати без питань\n",
      "Андрій: Фальшиві дані\n",
      "Наталя: Середнячок | Рішення: Невідомий статус\n"
     ]
    }
   ],
   "source": [
    "deals = [\n",
    "    {\"name\": \"Іван\", \"summa\": 50, \"status\": \"clean\"},\n",
    "    {\"name\": \"Ольга\", \"summa\": 500.75, \"status\": \"suspicious\"},\n",
    "    {\"name\": \"Петро\", \"summa\": 1500, \"status\": \"fraud\"},\n",
    "    {\"name\": \"Марія\", \"summa\": 999, \"status\": \"clean\"},\n",
    "    {\"name\": \"Андрій\", \"summa\": \"тисяча\", \"status\": \"clean\"},\n",
    "    {\"name\": \"Наталя\", \"summa\": 250, \"status\": \"unknown\"},\n",
    "]\n",
    "\n",
    "for deal in deals:\n",
    "    name = deal.get(\"name\")\n",
    "    amount = deal.get(\"summa\")\n",
    "    status = deal.get(\"status\")\n",
    "\n",
    "\n",
    "    try:\n",
    "     \n",
    "        amount_numeric = float(amount)\n",
    "    except (ValueError, TypeError):\n",
    "        print(f\"{name}: Фальшиві дані\")\n",
    "        continue \n",
    "\n",
    "\n",
    "    sum_category = \"\"\n",
    "    if amount_numeric < 100:\n",
    "        sum_category = \"Дрібнота\"\n",
    "    elif  amount_numeric <= 999: \n",
    "        sum_category = \"Середнячок\"\n",
    "    else:\n",
    "        sum_category = \"Великий клієнт\"\n",
    "    \n",
    " \n",
    "    status_decision = \"\"\n",
    "    match status:\n",
    "        case \"clean\":\n",
    "            status_decision = \"Працювати без питань\"\n",
    "        case \"suspicious\":\n",
    "            status_decision = \"Перевірити документи\"\n",
    "        case \"fraud\":\n",
    "            status_decision = \"У чорний список\"\n",
    "        case _: \n",
    "            status_decision = \"Невідомий статус\"\n",
    "\n",
    "    print(f\"{name}: {sum_category} | Рішення: {status_decision}\")"
   ]
  }
 ],
 "metadata": {
  "kernelspec": {
   "display_name": "Python 3",
   "language": "python",
   "name": "python3"
  },
  "language_info": {
   "codemirror_mode": {
    "name": "ipython",
    "version": 3
   },
   "file_extension": ".py",
   "mimetype": "text/x-python",
   "name": "python",
   "nbconvert_exporter": "python",
   "pygments_lexer": "ipython3",
   "version": "3.12.5"
  }
 },
 "nbformat": 4,
 "nbformat_minor": 2
}
