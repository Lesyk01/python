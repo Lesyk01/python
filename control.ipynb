{
 "cells": [
  {
   "cell_type": "code",
   "execution_count": 3,
   "metadata": {},
   "outputs": [
    {
     "name": "stdout",
     "output_type": "stream",
     "text": [
      "Амоксицилін: рецептурний препарат | Температура: норма\n",
      "Вітамін C: вільний продаж | Температура: надто жарко\n",
      "COVID-19 Vaccine: Потребує спецзберігання | Температура: надто холодно\n",
      "Невідомий: Невідома категорія | Температура: норма\n",
      "Інсулін: Помилка даних\n"
     ]
    }
   ],
   "source": [
    "medicines = [\n",
    "    {\"name\": \"Амоксицилін\", \"quantity\": 98, \"category\": \"antibiotic\", \"temperature\": 22.5},\n",
    "    {\"name\": \"Вітамін C\", \"quantity\": 120, \"category\": \"vitamin\", \"temperature\": 26.0},\n",
    "    {\"name\": \"COVID-19 Vaccine\", \"quantity\": 200, \"category\": \"vaccine\", \"temperature\": 3.0},\n",
    "    {\"name\": \"Невідомий\", \"quantity\": 15, \"category\": \"unknown\", \"temperature\": 20.0},\n",
    "    {\"name\": \"Інсулін\", \"quantity\": \"п'ятдесят\", \"category\": \"vaccine\", \"temperature\": 4.5},\n",
    "]\n",
    "\n",
    "for med in medicines:\n",
    "    name = med.get(\"name\")\n",
    "    quantity = med.get(\"quantity\")\n",
    "    category = med.get(\"category\")\n",
    "    temperature = med.get(\"temperature\")\n",
    "\n",
    "   \n",
    "    try:\n",
    "       \n",
    "        quantity = int(quantity)\n",
    "        temperature = float(temperature)\n",
    "    except (ValueError, TypeError):\n",
    "        print(f\"{name}: Помилка даних\")\n",
    "        continue\n",
    "    temp_status = \"\"\n",
    "    if temperature < 5.0:\n",
    "        temp_status = \"надто холодно\"\n",
    "    elif temperature >25.0:\n",
    "        temp_status = \"надто жарко\"\n",
    "    else:\n",
    "        temp_status = \"норма\"\n",
    "    category_status = \"\"\n",
    "    match category:\n",
    "        case \"antibiotic\":\n",
    "            category_status = \"рецептурний препарат\"\n",
    "        case \"vitamin\":\n",
    "            category_status = \"вільний продаж\"\n",
    "        case \"vaccine\":\n",
    "            category_status = \"Потребує спецзберігання\"\n",
    "        case _ :\n",
    "            category_status = \"Невідома категорія\"\n",
    "    \n",
    "    print(f\"{name}: {category_status} | Температура: {temp_status}\")"
   ]
  }
 ],
 "metadata": {
  "kernelspec": {
   "display_name": "Python 3",
   "language": "python",
   "name": "python3"
  },
  "language_info": {
   "codemirror_mode": {
    "name": "ipython",
    "version": 3
   },
   "file_extension": ".py",
   "mimetype": "text/x-python",
   "name": "python",
   "nbconvert_exporter": "python",
   "pygments_lexer": "ipython3",
   "version": "3.12.5"
  }
 },
 "nbformat": 4,
 "nbformat_minor": 2
}
